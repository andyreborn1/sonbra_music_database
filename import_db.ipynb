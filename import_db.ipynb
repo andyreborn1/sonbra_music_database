{
 "cells": [
  {
   "cell_type": "markdown",
   "metadata": {},
   "source": [
    "### Estrutura"
   ]
  },
  {
   "cell_type": "code",
   "execution_count": 43,
   "metadata": {},
   "outputs": [],
   "source": [
    "stats = [\"mean\", \"median\"]\n",
    "splits = [\"begin\", \"middle_1\", \"middle\", \"middle_2\", \"end\"]\n",
    "generos = [\n",
    "    \"forro\",\n",
    "    \"funk\",\n",
    "    \"sertanejo\",\n",
    "    \"samba\",\n",
    "    \"samba_enredo\",\n",
    "    \"pisadinha\",\n",
    "    \"pagode\",\n",
    "    \"bossa_nova\",\n",
    "]"
   ]
  },
  {
   "cell_type": "markdown",
   "metadata": {},
   "source": [
    "### Importação da base de dados em parquet"
   ]
  },
  {
   "cell_type": "code",
   "execution_count": 44,
   "metadata": {},
   "outputs": [
    {
     "name": "stdout",
     "output_type": "stream",
     "text": [
      "classe\n",
      "bossa_nova      1000\n",
      "forro           1000\n",
      "funk            1000\n",
      "pagode          1000\n",
      "pisadinha       1000\n",
      "samba           1000\n",
      "samba_enredo    1000\n",
      "sertanejo       1000\n",
      "dtype: int64\n"
     ]
    }
   ],
   "source": [
    "import pandas as pd\n",
    "\n",
    "sonbra = pd.DataFrame()\n",
    "\n",
    "for s in stats:\n",
    "    for g in generos:\n",
    "        for sp in splits:\n",
    "            df = pd.read_parquet(f\"parquet/{s}/db_{g}_{sp}_30.parquet\")\n",
    "\n",
    "            sonbra = pd.concat([sonbra, df], ignore_index=True)\n",
    "\n",
    "print(sonbra.groupby([\"classe\"]).size())"
   ]
  },
  {
   "cell_type": "markdown",
   "metadata": {},
   "source": [
    "### Importação da base de dados com pickle"
   ]
  },
  {
   "cell_type": "code",
   "execution_count": 45,
   "metadata": {},
   "outputs": [],
   "source": [
    "import pickle\n",
    "\n",
    "\n",
    "def load_variable(directory, name_in):\n",
    "    try:\n",
    "        with open(directory + name_in, \"rb\") as f:\n",
    "            aux = pickle.load(f)\n",
    "        return aux\n",
    "    except:\n",
    "        return False"
   ]
  },
  {
   "cell_type": "code",
   "execution_count": 46,
   "metadata": {},
   "outputs": [
    {
     "name": "stdout",
     "output_type": "stream",
     "text": [
      "classe\n",
      "bossa_nova      1000\n",
      "forro           1000\n",
      "funk            1000\n",
      "pagode          1000\n",
      "pisadinha       1000\n",
      "samba           1000\n",
      "samba_enredo    1000\n",
      "sertanejo       1000\n",
      "dtype: int64\n"
     ]
    }
   ],
   "source": [
    "import pandas as pd\n",
    "\n",
    "sonbra = pd.DataFrame()\n",
    "\n",
    "for s in stats:\n",
    "    for g in generos:\n",
    "        for sp in splits:\n",
    "            df = load_variable(f\"pickle/{s}/\", f\"db_{g}_{sp}_30.pkl\")\n",
    "\n",
    "            sonbra = pd.concat([sonbra, df], ignore_index=True)\n",
    "\n",
    "print(sonbra.groupby([\"classe\"]).size())"
   ]
  }
 ],
 "metadata": {
  "kernelspec": {
   "display_name": "deep_learning",
   "language": "python",
   "name": "python3"
  },
  "language_info": {
   "codemirror_mode": {
    "name": "ipython",
    "version": 3
   },
   "file_extension": ".py",
   "mimetype": "text/x-python",
   "name": "python",
   "nbconvert_exporter": "python",
   "pygments_lexer": "ipython3",
   "version": "3.9.18"
  }
 },
 "nbformat": 4,
 "nbformat_minor": 2
}
